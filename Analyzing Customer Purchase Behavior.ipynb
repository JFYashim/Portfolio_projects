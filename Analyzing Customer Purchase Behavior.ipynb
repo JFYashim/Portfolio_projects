{
 "cells": [
  {
   "cell_type": "markdown",
   "id": "25f066dc-8149-4846-93e4-cc28f43467a9",
   "metadata": {},
   "source": [
    "*Project:* Analyzing Customer Purchase Behavior\n",
    "\n",
    "*Dataset:* https://www.kaggle.com/datasets/iamsouravbanerjee/customer-shopping-trends-dataset\n",
    "\n",
    "*Objective:*\n",
    "\n",
    "1. Explore customer demographics and purchase patterns.\n",
    "2. Identify top-items purchased and categories.\n",
    "3. Analyze customer loyalty and retention.\n",
    "4. Determine the impact of pricing and promotions on purchase.\n",
    "\n",
    "*Python Tasks:*\n",
    "\n",
    "1. Data Cleaning:\n",
    "    - I Use Pandas to remove missing or duplicate values.\n",
    "    - Handle data inconsistencies.\n",
    "2. Data Exploration:\n",
    "    - I Use Pandas and Matplotlib to calculate summary statistics and visualize distributions.\n",
    "3. Customer Analysis:\n",
    "    - I Use Pandas to segment customers by demographics and purchase behavior.\n",
    "4. Product Analysis:\n",
    "    - I Use Pandas and Matplotlib to identify top-selling products and categories.\n",
    "5. Loyalty and Retention:\n",
    "    - I Use Pandas to analyze customer loyalty and retention.\n",
    "6. Pricing and Promotions:\n",
    "    - I Use Pandas to determine the impact of pricing and promotions on customer purchase.\n",
    "\n",
    "*Python Libraries:*\n",
    "\n",
    "1. Pandas for data manipulation and analysis.\n",
    "2. Matplotlib and Seaborn for data visualization.\n",
    "\n",
    "*Deliverables:*\n",
    "\n",
    "1. A written report summarizing findings.\n",
    "2. Visualizations (e.g., tables, charts, graphs) to support analysis.\n",
    "3. Python code for all tasks and analyses.\n",
    "\n",
    "*Tips and Variations:*\n",
    "\n",
    "- I Use data visualization tools like Tableau to create interactive dashboards.\n",
    "- I Incorporated additional datasets (e.g., customer feedback, market trends) for more comprehensive insights."
   ]
  },
  {
   "cell_type": "code",
   "execution_count": 1,
   "id": "278a42f9-422e-4076-9d2f-b99c16ec29d6",
   "metadata": {},
   "outputs": [
    {
     "name": "stdout",
     "output_type": "stream",
     "text": [
      "Requirement already satisfied: pandas in c:\\users\\hp\\anaconda3\\lib\\site-packages (2.1.4)\n",
      "Requirement already satisfied: numpy<2,>=1.23.2 in c:\\users\\hp\\anaconda3\\lib\\site-packages (from pandas) (1.26.4)\n",
      "Requirement already satisfied: python-dateutil>=2.8.2 in c:\\users\\hp\\anaconda3\\lib\\site-packages (from pandas) (2.8.2)\n",
      "Requirement already satisfied: pytz>=2020.1 in c:\\users\\hp\\anaconda3\\lib\\site-packages (from pandas) (2023.3.post1)\n",
      "Requirement already satisfied: tzdata>=2022.1 in c:\\users\\hp\\anaconda3\\lib\\site-packages (from pandas) (2023.3)\n",
      "Requirement already satisfied: six>=1.5 in c:\\users\\hp\\anaconda3\\lib\\site-packages (from python-dateutil>=2.8.2->pandas) (1.16.0)\n",
      "Requirement already satisfied: Matplotlib in c:\\users\\hp\\anaconda3\\lib\\site-packages (3.8.0)\n",
      "Requirement already satisfied: contourpy>=1.0.1 in c:\\users\\hp\\anaconda3\\lib\\site-packages (from Matplotlib) (1.2.0)\n",
      "Requirement already satisfied: cycler>=0.10 in c:\\users\\hp\\anaconda3\\lib\\site-packages (from Matplotlib) (0.11.0)\n",
      "Requirement already satisfied: fonttools>=4.22.0 in c:\\users\\hp\\anaconda3\\lib\\site-packages (from Matplotlib) (4.25.0)\n",
      "Requirement already satisfied: kiwisolver>=1.0.1 in c:\\users\\hp\\anaconda3\\lib\\site-packages (from Matplotlib) (1.4.4)\n",
      "Requirement already satisfied: numpy<2,>=1.21 in c:\\users\\hp\\anaconda3\\lib\\site-packages (from Matplotlib) (1.26.4)\n",
      "Requirement already satisfied: packaging>=20.0 in c:\\users\\hp\\anaconda3\\lib\\site-packages (from Matplotlib) (23.1)\n",
      "Requirement already satisfied: pillow>=6.2.0 in c:\\users\\hp\\anaconda3\\lib\\site-packages (from Matplotlib) (10.2.0)\n",
      "Requirement already satisfied: pyparsing>=2.3.1 in c:\\users\\hp\\anaconda3\\lib\\site-packages (from Matplotlib) (3.0.9)\n",
      "Requirement already satisfied: python-dateutil>=2.7 in c:\\users\\hp\\anaconda3\\lib\\site-packages (from Matplotlib) (2.8.2)\n",
      "Requirement already satisfied: six>=1.5 in c:\\users\\hp\\anaconda3\\lib\\site-packages (from python-dateutil>=2.7->Matplotlib) (1.16.0)\n",
      "Requirement already satisfied: Seaborn in c:\\users\\hp\\anaconda3\\lib\\site-packages (0.12.2)\n",
      "Requirement already satisfied: numpy!=1.24.0,>=1.17 in c:\\users\\hp\\anaconda3\\lib\\site-packages (from Seaborn) (1.26.4)\n",
      "Requirement already satisfied: pandas>=0.25 in c:\\users\\hp\\anaconda3\\lib\\site-packages (from Seaborn) (2.1.4)\n",
      "Requirement already satisfied: matplotlib!=3.6.1,>=3.1 in c:\\users\\hp\\anaconda3\\lib\\site-packages (from Seaborn) (3.8.0)\n",
      "Requirement already satisfied: contourpy>=1.0.1 in c:\\users\\hp\\anaconda3\\lib\\site-packages (from matplotlib!=3.6.1,>=3.1->Seaborn) (1.2.0)\n",
      "Requirement already satisfied: cycler>=0.10 in c:\\users\\hp\\anaconda3\\lib\\site-packages (from matplotlib!=3.6.1,>=3.1->Seaborn) (0.11.0)\n",
      "Requirement already satisfied: fonttools>=4.22.0 in c:\\users\\hp\\anaconda3\\lib\\site-packages (from matplotlib!=3.6.1,>=3.1->Seaborn) (4.25.0)\n",
      "Requirement already satisfied: kiwisolver>=1.0.1 in c:\\users\\hp\\anaconda3\\lib\\site-packages (from matplotlib!=3.6.1,>=3.1->Seaborn) (1.4.4)\n",
      "Requirement already satisfied: packaging>=20.0 in c:\\users\\hp\\anaconda3\\lib\\site-packages (from matplotlib!=3.6.1,>=3.1->Seaborn) (23.1)\n",
      "Requirement already satisfied: pillow>=6.2.0 in c:\\users\\hp\\anaconda3\\lib\\site-packages (from matplotlib!=3.6.1,>=3.1->Seaborn) (10.2.0)\n",
      "Requirement already satisfied: pyparsing>=2.3.1 in c:\\users\\hp\\anaconda3\\lib\\site-packages (from matplotlib!=3.6.1,>=3.1->Seaborn) (3.0.9)\n",
      "Requirement already satisfied: python-dateutil>=2.7 in c:\\users\\hp\\anaconda3\\lib\\site-packages (from matplotlib!=3.6.1,>=3.1->Seaborn) (2.8.2)\n",
      "Requirement already satisfied: pytz>=2020.1 in c:\\users\\hp\\anaconda3\\lib\\site-packages (from pandas>=0.25->Seaborn) (2023.3.post1)\n",
      "Requirement already satisfied: tzdata>=2022.1 in c:\\users\\hp\\anaconda3\\lib\\site-packages (from pandas>=0.25->Seaborn) (2023.3)\n",
      "Requirement already satisfied: six>=1.5 in c:\\users\\hp\\anaconda3\\lib\\site-packages (from python-dateutil>=2.7->matplotlib!=3.6.1,>=3.1->Seaborn) (1.16.0)\n",
      "Requirement already satisfied: plotly in c:\\users\\hp\\anaconda3\\lib\\site-packages (5.9.0)\n",
      "Requirement already satisfied: tenacity>=6.2.0 in c:\\users\\hp\\anaconda3\\lib\\site-packages (from plotly) (8.2.2)\n",
      "Requirement already satisfied: numpy in c:\\users\\hp\\anaconda3\\lib\\site-packages (1.26.4)\n",
      "Requirement already satisfied: scikit-learn in c:\\users\\hp\\anaconda3\\lib\\site-packages (1.2.2)\n",
      "Requirement already satisfied: numpy>=1.17.3 in c:\\users\\hp\\anaconda3\\lib\\site-packages (from scikit-learn) (1.26.4)\n",
      "Requirement already satisfied: scipy>=1.3.2 in c:\\users\\hp\\anaconda3\\lib\\site-packages (from scikit-learn) (1.11.4)\n",
      "Requirement already satisfied: joblib>=1.1.1 in c:\\users\\hp\\anaconda3\\lib\\site-packages (from scikit-learn) (1.1.1)\n",
      "Requirement already satisfied: threadpoolctl>=2.0.0 in c:\\users\\hp\\anaconda3\\lib\\site-packages (from scikit-learn) (2.2.0)\n"
     ]
    }
   ],
   "source": [
    "!pip install pandas\n",
    "!pip install Matplotlib\n",
    "!pip install Seaborn\n",
    "!pip install plotly\n",
    "!pip install numpy\n",
    "!pip install scikit-learn"
   ]
  },
  {
   "cell_type": "code",
   "execution_count": 169,
   "id": "727c05a5-587e-47db-b2ed-4d34b2fc6d80",
   "metadata": {},
   "outputs": [],
   "source": [
    "import pandas as pd\n",
    "import seaborn as sns\n",
    "import matplotlib.pyplot as plt\n",
    "import numpy as np\n",
    "from sklearn.cluster import KMeans \n",
    "import plotly.graph_objects as go"
   ]
  },
  {
   "cell_type": "code",
   "execution_count": 143,
   "id": "8036c66f-3179-416b-8351-fdd1e28b0f0d",
   "metadata": {},
   "outputs": [
    {
     "data": {
      "text/html": [
       "<div>\n",
       "<style scoped>\n",
       "    .dataframe tbody tr th:only-of-type {\n",
       "        vertical-align: middle;\n",
       "    }\n",
       "\n",
       "    .dataframe tbody tr th {\n",
       "        vertical-align: top;\n",
       "    }\n",
       "\n",
       "    .dataframe thead th {\n",
       "        text-align: right;\n",
       "    }\n",
       "</style>\n",
       "<table border=\"1\" class=\"dataframe\">\n",
       "  <thead>\n",
       "    <tr style=\"text-align: right;\">\n",
       "      <th></th>\n",
       "      <th>Customer ID</th>\n",
       "      <th>Age</th>\n",
       "      <th>Gender</th>\n",
       "      <th>Item Purchased</th>\n",
       "      <th>Category</th>\n",
       "      <th>Purchase Amount (USD)</th>\n",
       "      <th>Location</th>\n",
       "      <th>Size</th>\n",
       "      <th>Color</th>\n",
       "      <th>Season</th>\n",
       "      <th>Review Rating</th>\n",
       "      <th>Subscription Status</th>\n",
       "      <th>Shipping Type</th>\n",
       "      <th>Discount Applied</th>\n",
       "      <th>Promo Code Used</th>\n",
       "      <th>Previous Purchases</th>\n",
       "      <th>Payment Method</th>\n",
       "      <th>Frequency of Purchases</th>\n",
       "    </tr>\n",
       "  </thead>\n",
       "  <tbody>\n",
       "    <tr>\n",
       "      <th>0</th>\n",
       "      <td>1</td>\n",
       "      <td>55</td>\n",
       "      <td>Male</td>\n",
       "      <td>Blouse</td>\n",
       "      <td>Clothing</td>\n",
       "      <td>53</td>\n",
       "      <td>Kentucky</td>\n",
       "      <td>L</td>\n",
       "      <td>Gray</td>\n",
       "      <td>Winter</td>\n",
       "      <td>3.1</td>\n",
       "      <td>Yes</td>\n",
       "      <td>Express</td>\n",
       "      <td>Yes</td>\n",
       "      <td>Yes</td>\n",
       "      <td>14</td>\n",
       "      <td>Venmo</td>\n",
       "      <td>Fortnightly</td>\n",
       "    </tr>\n",
       "    <tr>\n",
       "      <th>1</th>\n",
       "      <td>2</td>\n",
       "      <td>19</td>\n",
       "      <td>Male</td>\n",
       "      <td>Sweater</td>\n",
       "      <td>Clothing</td>\n",
       "      <td>64</td>\n",
       "      <td>Maine</td>\n",
       "      <td>L</td>\n",
       "      <td>Maroon</td>\n",
       "      <td>Winter</td>\n",
       "      <td>3.1</td>\n",
       "      <td>Yes</td>\n",
       "      <td>Express</td>\n",
       "      <td>Yes</td>\n",
       "      <td>Yes</td>\n",
       "      <td>2</td>\n",
       "      <td>Cash</td>\n",
       "      <td>Fortnightly</td>\n",
       "    </tr>\n",
       "    <tr>\n",
       "      <th>2</th>\n",
       "      <td>3</td>\n",
       "      <td>50</td>\n",
       "      <td>Male</td>\n",
       "      <td>Jeans</td>\n",
       "      <td>Clothing</td>\n",
       "      <td>73</td>\n",
       "      <td>Massachusetts</td>\n",
       "      <td>S</td>\n",
       "      <td>Maroon</td>\n",
       "      <td>Spring</td>\n",
       "      <td>3.1</td>\n",
       "      <td>Yes</td>\n",
       "      <td>Free Shipping</td>\n",
       "      <td>Yes</td>\n",
       "      <td>Yes</td>\n",
       "      <td>23</td>\n",
       "      <td>Credit Card</td>\n",
       "      <td>Weekly</td>\n",
       "    </tr>\n",
       "  </tbody>\n",
       "</table>\n",
       "</div>"
      ],
      "text/plain": [
       "   Customer ID  Age Gender Item Purchased  Category  Purchase Amount (USD)  \\\n",
       "0            1   55   Male         Blouse  Clothing                     53   \n",
       "1            2   19   Male        Sweater  Clothing                     64   \n",
       "2            3   50   Male          Jeans  Clothing                     73   \n",
       "\n",
       "        Location Size   Color  Season  Review Rating Subscription Status  \\\n",
       "0       Kentucky    L    Gray  Winter            3.1                 Yes   \n",
       "1          Maine    L  Maroon  Winter            3.1                 Yes   \n",
       "2  Massachusetts    S  Maroon  Spring            3.1                 Yes   \n",
       "\n",
       "   Shipping Type Discount Applied Promo Code Used  Previous Purchases  \\\n",
       "0        Express              Yes             Yes                  14   \n",
       "1        Express              Yes             Yes                   2   \n",
       "2  Free Shipping              Yes             Yes                  23   \n",
       "\n",
       "  Payment Method Frequency of Purchases  \n",
       "0          Venmo            Fortnightly  \n",
       "1           Cash            Fortnightly  \n",
       "2    Credit Card                 Weekly  "
      ]
     },
     "execution_count": 143,
     "metadata": {},
     "output_type": "execute_result"
    }
   ],
   "source": [
    "df = pd.read_csv(r\"C:\\Users\\HP\\Documents\\shopping_trends_updated.csv\")\n",
    "df.head(3)"
   ]
  },
  {
   "cell_type": "code",
   "execution_count": 58,
   "id": "6b654a17-1ce4-44f0-a271-f1960fed2d5c",
   "metadata": {},
   "outputs": [
    {
     "data": {
      "text/plain": [
       "(3900, 18)"
      ]
     },
     "execution_count": 58,
     "metadata": {},
     "output_type": "execute_result"
    }
   ],
   "source": [
    "df.shape"
   ]
  },
  {
   "cell_type": "code",
   "execution_count": 59,
   "id": "2177be49-3757-4c30-80b4-8dd4e7f2d709",
   "metadata": {},
   "outputs": [
    {
     "data": {
      "text/plain": [
       "Index(['Customer ID', 'Age', 'Gender', 'Item Purchased', 'Category',\n",
       "       'Purchase Amount (USD)', 'Location', 'Size', 'Color', 'Season',\n",
       "       'Review Rating', 'Subscription Status', 'Shipping Type',\n",
       "       'Discount Applied', 'Promo Code Used', 'Previous Purchases',\n",
       "       'Payment Method', 'Frequency of Purchases'],\n",
       "      dtype='object')"
      ]
     },
     "execution_count": 59,
     "metadata": {},
     "output_type": "execute_result"
    }
   ],
   "source": [
    "df.columns"
   ]
  },
  {
   "cell_type": "code",
   "execution_count": 60,
   "id": "f165d610-7daa-4850-bb3e-dc67978af410",
   "metadata": {},
   "outputs": [
    {
     "data": {
      "text/plain": [
       "Customer ID               0\n",
       "Age                       0\n",
       "Gender                    0\n",
       "Item Purchased            0\n",
       "Category                  0\n",
       "Purchase Amount (USD)     0\n",
       "Location                  0\n",
       "Size                      0\n",
       "Color                     0\n",
       "Season                    0\n",
       "Review Rating             0\n",
       "Subscription Status       0\n",
       "Shipping Type             0\n",
       "Discount Applied          0\n",
       "Promo Code Used           0\n",
       "Previous Purchases        0\n",
       "Payment Method            0\n",
       "Frequency of Purchases    0\n",
       "dtype: int64"
      ]
     },
     "execution_count": 60,
     "metadata": {},
     "output_type": "execute_result"
    }
   ],
   "source": [
    "df.isna().sum()"
   ]
  },
  {
   "cell_type": "code",
   "execution_count": 61,
   "id": "400e7603-1bd8-41c0-8d68-efb3a34d8feb",
   "metadata": {},
   "outputs": [
    {
     "data": {
      "text/plain": [
       "0"
      ]
     },
     "execution_count": 61,
     "metadata": {},
     "output_type": "execute_result"
    }
   ],
   "source": [
    "df.duplicated().sum()"
   ]
  },
  {
   "cell_type": "code",
   "execution_count": 62,
   "id": "6d3fe647-0eb0-44e9-b415-a220237e8927",
   "metadata": {},
   "outputs": [
    {
     "name": "stdout",
     "output_type": "stream",
     "text": [
      "<class 'pandas.core.frame.DataFrame'>\n",
      "RangeIndex: 3900 entries, 0 to 3899\n",
      "Data columns (total 18 columns):\n",
      " #   Column                  Non-Null Count  Dtype  \n",
      "---  ------                  --------------  -----  \n",
      " 0   Customer ID             3900 non-null   int64  \n",
      " 1   Age                     3900 non-null   int64  \n",
      " 2   Gender                  3900 non-null   object \n",
      " 3   Item Purchased          3900 non-null   object \n",
      " 4   Category                3900 non-null   object \n",
      " 5   Purchase Amount (USD)   3900 non-null   int64  \n",
      " 6   Location                3900 non-null   object \n",
      " 7   Size                    3900 non-null   object \n",
      " 8   Color                   3900 non-null   object \n",
      " 9   Season                  3900 non-null   object \n",
      " 10  Review Rating           3900 non-null   float64\n",
      " 11  Subscription Status     3900 non-null   object \n",
      " 12  Shipping Type           3900 non-null   object \n",
      " 13  Discount Applied        3900 non-null   object \n",
      " 14  Promo Code Used         3900 non-null   object \n",
      " 15  Previous Purchases      3900 non-null   int64  \n",
      " 16  Payment Method          3900 non-null   object \n",
      " 17  Frequency of Purchases  3900 non-null   object \n",
      "dtypes: float64(1), int64(4), object(13)\n",
      "memory usage: 548.6+ KB\n"
     ]
    }
   ],
   "source": [
    "df.info()"
   ]
  },
  {
   "cell_type": "code",
   "execution_count": 63,
   "id": "7b295341-d9c0-4246-be0a-a1b9ea5e4b0c",
   "metadata": {},
   "outputs": [
    {
     "data": {
      "text/html": [
       "<div>\n",
       "<style scoped>\n",
       "    .dataframe tbody tr th:only-of-type {\n",
       "        vertical-align: middle;\n",
       "    }\n",
       "\n",
       "    .dataframe tbody tr th {\n",
       "        vertical-align: top;\n",
       "    }\n",
       "\n",
       "    .dataframe thead th {\n",
       "        text-align: right;\n",
       "    }\n",
       "</style>\n",
       "<table border=\"1\" class=\"dataframe\">\n",
       "  <thead>\n",
       "    <tr style=\"text-align: right;\">\n",
       "      <th></th>\n",
       "      <th>Customer ID</th>\n",
       "      <th>Age</th>\n",
       "      <th>Purchase Amount (USD)</th>\n",
       "      <th>Review Rating</th>\n",
       "      <th>Previous Purchases</th>\n",
       "    </tr>\n",
       "  </thead>\n",
       "  <tbody>\n",
       "    <tr>\n",
       "      <th>count</th>\n",
       "      <td>3900.000000</td>\n",
       "      <td>3900.000000</td>\n",
       "      <td>3900.000000</td>\n",
       "      <td>3900.000000</td>\n",
       "      <td>3900.000000</td>\n",
       "    </tr>\n",
       "    <tr>\n",
       "      <th>mean</th>\n",
       "      <td>1950.500000</td>\n",
       "      <td>44.068462</td>\n",
       "      <td>59.764359</td>\n",
       "      <td>3.749949</td>\n",
       "      <td>25.351538</td>\n",
       "    </tr>\n",
       "    <tr>\n",
       "      <th>std</th>\n",
       "      <td>1125.977353</td>\n",
       "      <td>15.207589</td>\n",
       "      <td>23.685392</td>\n",
       "      <td>0.716223</td>\n",
       "      <td>14.447125</td>\n",
       "    </tr>\n",
       "    <tr>\n",
       "      <th>min</th>\n",
       "      <td>1.000000</td>\n",
       "      <td>18.000000</td>\n",
       "      <td>20.000000</td>\n",
       "      <td>2.500000</td>\n",
       "      <td>1.000000</td>\n",
       "    </tr>\n",
       "    <tr>\n",
       "      <th>25%</th>\n",
       "      <td>975.750000</td>\n",
       "      <td>31.000000</td>\n",
       "      <td>39.000000</td>\n",
       "      <td>3.100000</td>\n",
       "      <td>13.000000</td>\n",
       "    </tr>\n",
       "    <tr>\n",
       "      <th>50%</th>\n",
       "      <td>1950.500000</td>\n",
       "      <td>44.000000</td>\n",
       "      <td>60.000000</td>\n",
       "      <td>3.700000</td>\n",
       "      <td>25.000000</td>\n",
       "    </tr>\n",
       "    <tr>\n",
       "      <th>75%</th>\n",
       "      <td>2925.250000</td>\n",
       "      <td>57.000000</td>\n",
       "      <td>81.000000</td>\n",
       "      <td>4.400000</td>\n",
       "      <td>38.000000</td>\n",
       "    </tr>\n",
       "    <tr>\n",
       "      <th>max</th>\n",
       "      <td>3900.000000</td>\n",
       "      <td>70.000000</td>\n",
       "      <td>100.000000</td>\n",
       "      <td>5.000000</td>\n",
       "      <td>50.000000</td>\n",
       "    </tr>\n",
       "  </tbody>\n",
       "</table>\n",
       "</div>"
      ],
      "text/plain": [
       "       Customer ID          Age  Purchase Amount (USD)  Review Rating  \\\n",
       "count  3900.000000  3900.000000            3900.000000    3900.000000   \n",
       "mean   1950.500000    44.068462              59.764359       3.749949   \n",
       "std    1125.977353    15.207589              23.685392       0.716223   \n",
       "min       1.000000    18.000000              20.000000       2.500000   \n",
       "25%     975.750000    31.000000              39.000000       3.100000   \n",
       "50%    1950.500000    44.000000              60.000000       3.700000   \n",
       "75%    2925.250000    57.000000              81.000000       4.400000   \n",
       "max    3900.000000    70.000000             100.000000       5.000000   \n",
       "\n",
       "       Previous Purchases  \n",
       "count         3900.000000  \n",
       "mean            25.351538  \n",
       "std             14.447125  \n",
       "min              1.000000  \n",
       "25%             13.000000  \n",
       "50%             25.000000  \n",
       "75%             38.000000  \n",
       "max             50.000000  "
      ]
     },
     "execution_count": 63,
     "metadata": {},
     "output_type": "execute_result"
    }
   ],
   "source": [
    "df.describe()"
   ]
  },
  {
   "cell_type": "markdown",
   "id": "dc4c4d0f-0df5-4e15-b397-d954d2047725",
   "metadata": {},
   "source": [
    "# Customer demographics and purchase patterns."
   ]
  },
  {
   "cell_type": "markdown",
   "id": "d96024d9-8617-455c-b380-9d1ec2fffe69",
   "metadata": {},
   "source": [
    "#### Age"
   ]
  },
  {
   "cell_type": "code",
   "execution_count": 142,
   "id": "9b914c14-945e-4ce2-a90d-2248678c9ed1",
   "metadata": {},
   "outputs": [
    {
     "data": {
      "text/plain": [
       "Age\n",
       "69    88\n",
       "57    87\n",
       "41    86\n",
       "Name: count, dtype: int64"
      ]
     },
     "execution_count": 142,
     "metadata": {},
     "output_type": "execute_result"
    }
   ],
   "source": [
    "df['Age'].value_counts().head(3)"
   ]
  },
  {
   "cell_type": "markdown",
   "id": "d40b5eed-dd37-4f08-9de7-1fac37fd9346",
   "metadata": {},
   "source": [
    "#### Gender"
   ]
  },
  {
   "cell_type": "code",
   "execution_count": 65,
   "id": "22a24911-352b-4f6c-9ed0-fc369337b334",
   "metadata": {},
   "outputs": [
    {
     "data": {
      "text/plain": [
       "Gender\n",
       "Male      2652\n",
       "Female    1248\n",
       "Name: count, dtype: int64"
      ]
     },
     "execution_count": 65,
     "metadata": {},
     "output_type": "execute_result"
    }
   ],
   "source": [
    "df['Gender'].value_counts()"
   ]
  },
  {
   "cell_type": "markdown",
   "id": "c506d826-6c14-4efd-bbcb-1aab8ce9be98",
   "metadata": {},
   "source": [
    "#### Location"
   ]
  },
  {
   "cell_type": "code",
   "execution_count": 144,
   "id": "e5898deb-d71d-4ab7-8946-88d0c63ee8ba",
   "metadata": {},
   "outputs": [
    {
     "data": {
      "text/plain": [
       "Location\n",
       "Montana       96\n",
       "California    95\n",
       "Idaho         93\n",
       "Name: count, dtype: int64"
      ]
     },
     "execution_count": 144,
     "metadata": {},
     "output_type": "execute_result"
    }
   ],
   "source": [
    "df['Location'].value_counts().head(3)"
   ]
  },
  {
   "cell_type": "markdown",
   "id": "34e9aaa1-2ecd-4e89-a555-e054e4a60bcb",
   "metadata": {},
   "source": [
    "## Visualize Demographics"
   ]
  },
  {
   "cell_type": "code",
   "execution_count": 216,
   "id": "ea9d8cac-e22e-415c-b079-9c56faeb6278",
   "metadata": {},
   "outputs": [
    {
     "data": {
      "image/png": "[encoded data removed]",
      "text/plain": [
       "<Figure size 640x480 with 1 Axes>"
      ]
     },
     "metadata": {},
     "output_type": "display_data"
    }
   ],
   "source": [
    "df['Age'].plot.hist()\n",
    "plt.title('Histogram Age Distribution')\n",
    "plt.xlabel('Age')\n",
    "plt.show()"
   ]
  },
  {
   "cell_type": "code",
   "execution_count": 69,
   "id": "dca6b5cb-bebd-40c4-bf1a-01523368436d",
   "metadata": {},
   "outputs": [
    {
     "data": {
      "image/png": "[encoded data removed]",
      "text/plain": [
       "<Figure size 640x480 with 1 Axes>"
      ]
     },
     "metadata": {},
     "output_type": "display_data"
    }
   ],
   "source": [
    "df['Gender'].value_counts().plot.bar()\n",
    "plt.title('Gender Distribution')\n",
    "plt.show()"
   ]
  },
  {
   "cell_type": "code",
   "execution_count": 70,
   "id": "e007e889-c561-412b-a554-c8a4421e240b",
   "metadata": {},
   "outputs": [
    {
     "data": {
      "image/png": "[encoded data removed]",
      "text/plain": [
       "<Figure size 640x480 with 1 Axes>"
      ]
     },
     "metadata": {},
     "output_type": "display_data"
    }
   ],
   "source": [
    "df['Location'].value_counts().plot.bar()\n",
    "plt.title('Location Distribution')\n",
    "plt.show()"
   ]
  },
  {
   "cell_type": "markdown",
   "id": "ea4146c4-d23b-4b42-82b0-96074445871a",
   "metadata": {},
   "source": [
    "#### Number of customers per Age Groups"
   ]
  },
  {
   "cell_type": "code",
   "execution_count": 149,
   "id": "dce45436-c985-4219-95db-5919306ed12b",
   "metadata": {},
   "outputs": [
    {
     "data": {
      "text/plain": [
       "Age_Group\n",
       "(45, 65]    1503\n",
       "(25, 45]    1471\n",
       "(0, 25]      571\n",
       "(65, 85]     355\n",
       "Name: count, dtype: int64"
      ]
     },
     "execution_count": 149,
     "metadata": {},
     "output_type": "execute_result"
    }
   ],
   "source": [
    "df['Age_Group'] = pd.cut(df['Age'], bins = [0, 25, 45, 65, 85])\n",
    "df['Age_Group'].value_counts()"
   ]
  },
  {
   "cell_type": "markdown",
   "id": "ac0d28d8-251f-4be3-9cc8-d974727cdd60",
   "metadata": {},
   "source": [
    "### Number of Customers in each Age Group per Location (agpl)"
   ]
  },
  {
   "cell_type": "code",
   "execution_count": 164,
   "id": "20ffa8cb-8017-40ed-a437-42fce58a3c11",
   "metadata": {},
   "outputs": [
    {
     "data": {
      "text/html": [
       "<div>\n",
       "<style scoped>\n",
       "    .dataframe tbody tr th:only-of-type {\n",
       "        vertical-align: middle;\n",
       "    }\n",
       "\n",
       "    .dataframe tbody tr th {\n",
       "        vertical-align: top;\n",
       "    }\n",
       "\n",
       "    .dataframe thead th {\n",
       "        text-align: right;\n",
       "    }\n",
       "</style>\n",
       "<table border=\"1\" class=\"dataframe\">\n",
       "  <thead>\n",
       "    <tr style=\"text-align: right;\">\n",
       "      <th>Age_Group</th>\n",
       "      <th>(0, 25]</th>\n",
       "      <th>(25, 45]</th>\n",
       "      <th>(45, 65]</th>\n",
       "      <th>(65, 85]</th>\n",
       "    </tr>\n",
       "    <tr>\n",
       "      <th>Location</th>\n",
       "      <th></th>\n",
       "      <th></th>\n",
       "      <th></th>\n",
       "      <th></th>\n",
       "    </tr>\n",
       "  </thead>\n",
       "  <tbody>\n",
       "    <tr>\n",
       "      <th>Alabama</th>\n",
       "      <td>19</td>\n",
       "      <td>26</td>\n",
       "      <td>42</td>\n",
       "      <td>2</td>\n",
       "    </tr>\n",
       "    <tr>\n",
       "      <th>Alaska</th>\n",
       "      <td>10</td>\n",
       "      <td>30</td>\n",
       "      <td>25</td>\n",
       "      <td>7</td>\n",
       "    </tr>\n",
       "    <tr>\n",
       "      <th>Arizona</th>\n",
       "      <td>6</td>\n",
       "      <td>28</td>\n",
       "      <td>25</td>\n",
       "      <td>6</td>\n",
       "    </tr>\n",
       "  </tbody>\n",
       "</table>\n",
       "</div>"
      ],
      "text/plain": [
       "Age_Group  (0, 25]  (25, 45]  (45, 65]  (65, 85]\n",
       "Location                                        \n",
       "Alabama         19        26        42         2\n",
       "Alaska          10        30        25         7\n",
       "Arizona          6        28        25         6"
      ]
     },
     "execution_count": 164,
     "metadata": {},
     "output_type": "execute_result"
    }
   ],
   "source": [
    "df_agpl = pd.crosstab(df['Age_Group'], df['Location'])\n",
    "df_agpl.transpose().head(3)"
   ]
  },
  {
   "cell_type": "markdown",
   "id": "0bf9fe20-6734-47df-8662-ee24eaeaa6f8",
   "metadata": {},
   "source": [
    "### Number of Customers in each Age Group per Item Purchase (agpip)"
   ]
  },
  {
   "cell_type": "code",
   "execution_count": 160,
   "id": "539a560b-7dba-4ff6-8e63-610bf1d4e504",
   "metadata": {},
   "outputs": [
    {
     "data": {
      "text/html": [
       "<div>\n",
       "<style scoped>\n",
       "    .dataframe tbody tr th:only-of-type {\n",
       "        vertical-align: middle;\n",
       "    }\n",
       "\n",
       "    .dataframe tbody tr th {\n",
       "        vertical-align: top;\n",
       "    }\n",
       "\n",
       "    .dataframe thead th {\n",
       "        text-align: right;\n",
       "    }\n",
       "</style>\n",
       "<table border=\"1\" class=\"dataframe\">\n",
       "  <thead>\n",
       "    <tr style=\"text-align: right;\">\n",
       "      <th>Age_Group</th>\n",
       "      <th>(0, 25]</th>\n",
       "      <th>(25, 45]</th>\n",
       "      <th>(45, 65]</th>\n",
       "      <th>(65, 85]</th>\n",
       "    </tr>\n",
       "    <tr>\n",
       "      <th>Item Purchased</th>\n",
       "      <th></th>\n",
       "      <th></th>\n",
       "      <th></th>\n",
       "      <th></th>\n",
       "    </tr>\n",
       "  </thead>\n",
       "  <tbody>\n",
       "    <tr>\n",
       "      <th>Backpack</th>\n",
       "      <td>16</td>\n",
       "      <td>72</td>\n",
       "      <td>45</td>\n",
       "      <td>10</td>\n",
       "    </tr>\n",
       "    <tr>\n",
       "      <th>Belt</th>\n",
       "      <td>26</td>\n",
       "      <td>66</td>\n",
       "      <td>55</td>\n",
       "      <td>14</td>\n",
       "    </tr>\n",
       "    <tr>\n",
       "      <th>Blouse</th>\n",
       "      <td>23</td>\n",
       "      <td>68</td>\n",
       "      <td>63</td>\n",
       "      <td>17</td>\n",
       "    </tr>\n",
       "  </tbody>\n",
       "</table>\n",
       "</div>"
      ],
      "text/plain": [
       "Age_Group       (0, 25]  (25, 45]  (45, 65]  (65, 85]\n",
       "Item Purchased                                       \n",
       "Backpack             16        72        45        10\n",
       "Belt                 26        66        55        14\n",
       "Blouse               23        68        63        17"
      ]
     },
     "execution_count": 160,
     "metadata": {},
     "output_type": "execute_result"
    }
   ],
   "source": [
    "df_agpip = pd.crosstab(df['Age_Group'], df['Item Purchased'])\n",
    "df_agpip.transpose().head(3)"
   ]
  },
  {
   "cell_type": "markdown",
   "id": "5aa45fde-ae35-4916-9940-ed0de99605c2",
   "metadata": {},
   "source": [
    "### Number of Customers in each Age Group per Gender (agpg)"
   ]
  },
  {
   "cell_type": "code",
   "execution_count": 147,
   "id": "ff2f09b3-5633-4b00-b64d-132bae8f7b51",
   "metadata": {},
   "outputs": [
    {
     "data": {
      "text/html": [
       "<div>\n",
       "<style scoped>\n",
       "    .dataframe tbody tr th:only-of-type {\n",
       "        vertical-align: middle;\n",
       "    }\n",
       "\n",
       "    .dataframe tbody tr th {\n",
       "        vertical-align: top;\n",
       "    }\n",
       "\n",
       "    .dataframe thead th {\n",
       "        text-align: right;\n",
       "    }\n",
       "</style>\n",
       "<table border=\"1\" class=\"dataframe\">\n",
       "  <thead>\n",
       "    <tr style=\"text-align: right;\">\n",
       "      <th>Gender</th>\n",
       "      <th>Female</th>\n",
       "      <th>Male</th>\n",
       "    </tr>\n",
       "    <tr>\n",
       "      <th>Age_Group</th>\n",
       "      <th></th>\n",
       "      <th></th>\n",
       "    </tr>\n",
       "  </thead>\n",
       "  <tbody>\n",
       "    <tr>\n",
       "      <th>(0, 25]</th>\n",
       "      <td>173</td>\n",
       "      <td>398</td>\n",
       "    </tr>\n",
       "    <tr>\n",
       "      <th>(25, 45]</th>\n",
       "      <td>485</td>\n",
       "      <td>986</td>\n",
       "    </tr>\n",
       "    <tr>\n",
       "      <th>(45, 65]</th>\n",
       "      <td>486</td>\n",
       "      <td>1017</td>\n",
       "    </tr>\n",
       "    <tr>\n",
       "      <th>(65, 85]</th>\n",
       "      <td>104</td>\n",
       "      <td>251</td>\n",
       "    </tr>\n",
       "  </tbody>\n",
       "</table>\n",
       "</div>"
      ],
      "text/plain": [
       "Gender     Female  Male\n",
       "Age_Group              \n",
       "(0, 25]       173   398\n",
       "(25, 45]      485   986\n",
       "(45, 65]      486  1017\n",
       "(65, 85]      104   251"
      ]
     },
     "execution_count": 147,
     "metadata": {},
     "output_type": "execute_result"
    }
   ],
   "source": [
    "df_agpg = pd.crosstab(df['Age_Group'], df['Gender'])\n",
    "df_agpg"
   ]
  },
  {
   "cell_type": "markdown",
   "id": "92756b73-7961-44bc-9626-25b6573280ac",
   "metadata": {},
   "source": [
    "#### Gender segment: Recent & Previous Purchase (rpp) by Gender"
   ]
  },
  {
   "cell_type": "code",
   "execution_count": 112,
   "id": "b3e39490-e963-4110-b14d-d25461665069",
   "metadata": {},
   "outputs": [
    {
     "data": {
      "text/html": [
       "<div>\n",
       "<style scoped>\n",
       "    .dataframe tbody tr th:only-of-type {\n",
       "        vertical-align: middle;\n",
       "    }\n",
       "\n",
       "    .dataframe tbody tr th {\n",
       "        vertical-align: top;\n",
       "    }\n",
       "\n",
       "    .dataframe thead tr th {\n",
       "        text-align: left;\n",
       "    }\n",
       "\n",
       "    .dataframe thead tr:last-of-type th {\n",
       "        text-align: right;\n",
       "    }\n",
       "</style>\n",
       "<table border=\"1\" class=\"dataframe\">\n",
       "  <thead>\n",
       "    <tr>\n",
       "      <th></th>\n",
       "      <th colspan=\"5\" halign=\"left\">Purchase Amount (USD)</th>\n",
       "      <th colspan=\"5\" halign=\"left\">Previous Purchases</th>\n",
       "    </tr>\n",
       "    <tr>\n",
       "      <th></th>\n",
       "      <th>max</th>\n",
       "      <th>min</th>\n",
       "      <th>count</th>\n",
       "      <th>sum</th>\n",
       "      <th>mean</th>\n",
       "      <th>max</th>\n",
       "      <th>min</th>\n",
       "      <th>count</th>\n",
       "      <th>sum</th>\n",
       "      <th>mean</th>\n",
       "    </tr>\n",
       "    <tr>\n",
       "      <th>Gender</th>\n",
       "      <th></th>\n",
       "      <th></th>\n",
       "      <th></th>\n",
       "      <th></th>\n",
       "      <th></th>\n",
       "      <th></th>\n",
       "      <th></th>\n",
       "      <th></th>\n",
       "      <th></th>\n",
       "      <th></th>\n",
       "    </tr>\n",
       "  </thead>\n",
       "  <tbody>\n",
       "    <tr>\n",
       "      <th>Female</th>\n",
       "      <td>100</td>\n",
       "      <td>20</td>\n",
       "      <td>1248</td>\n",
       "      <td>75191</td>\n",
       "      <td>60.249199</td>\n",
       "      <td>50</td>\n",
       "      <td>1</td>\n",
       "      <td>1248</td>\n",
       "      <td>30696</td>\n",
       "      <td>24.596154</td>\n",
       "    </tr>\n",
       "    <tr>\n",
       "      <th>Male</th>\n",
       "      <td>100</td>\n",
       "      <td>20</td>\n",
       "      <td>2652</td>\n",
       "      <td>157890</td>\n",
       "      <td>59.536199</td>\n",
       "      <td>50</td>\n",
       "      <td>1</td>\n",
       "      <td>2652</td>\n",
       "      <td>68175</td>\n",
       "      <td>25.707014</td>\n",
       "    </tr>\n",
       "  </tbody>\n",
       "</table>\n",
       "</div>"
      ],
      "text/plain": [
       "       Purchase Amount (USD)                              Previous Purchases  \\\n",
       "                         max min count     sum       mean                max   \n",
       "Gender                                                                         \n",
       "Female                   100  20  1248   75191  60.249199                 50   \n",
       "Male                     100  20  2652  157890  59.536199                 50   \n",
       "\n",
       "                                    \n",
       "       min count    sum       mean  \n",
       "Gender                              \n",
       "Female   1  1248  30696  24.596154  \n",
       "Male     1  2652  68175  25.707014  "
      ]
     },
     "execution_count": 112,
     "metadata": {},
     "output_type": "execute_result"
    }
   ],
   "source": [
    "df_grpp = df.groupby('Gender')[['Purchase Amount (USD)', 'Previous Purchases']].agg(['max','min','count', 'sum', 'mean'])\n",
    "df_grpp"
   ]
  },
  {
   "cell_type": "markdown",
   "id": "bf467042-ca28-4900-9c5b-4894a1770b8e",
   "metadata": {},
   "source": [
    "#### Location segment: Recent & Previous Purchase (rpp) by Location"
   ]
  },
  {
   "cell_type": "code",
   "execution_count": 114,
   "id": "8e1dfbda-8171-47fb-a570-b10c5e40823a",
   "metadata": {},
   "outputs": [
    {
     "data": {
      "text/html": [
       "<div>\n",
       "<style scoped>\n",
       "    .dataframe tbody tr th:only-of-type {\n",
       "        vertical-align: middle;\n",
       "    }\n",
       "\n",
       "    .dataframe tbody tr th {\n",
       "        vertical-align: top;\n",
       "    }\n",
       "\n",
       "    .dataframe thead tr th {\n",
       "        text-align: left;\n",
       "    }\n",
       "\n",
       "    .dataframe thead tr:last-of-type th {\n",
       "        text-align: right;\n",
       "    }\n",
       "</style>\n",
       "<table border=\"1\" class=\"dataframe\">\n",
       "  <thead>\n",
       "    <tr>\n",
       "      <th></th>\n",
       "      <th colspan=\"5\" halign=\"left\">Purchase Amount (USD)</th>\n",
       "      <th colspan=\"5\" halign=\"left\">Previous Purchases</th>\n",
       "    </tr>\n",
       "    <tr>\n",
       "      <th></th>\n",
       "      <th>max</th>\n",
       "      <th>min</th>\n",
       "      <th>count</th>\n",
       "      <th>sum</th>\n",
       "      <th>mean</th>\n",
       "      <th>max</th>\n",
       "      <th>min</th>\n",
       "      <th>count</th>\n",
       "      <th>sum</th>\n",
       "      <th>mean</th>\n",
       "    </tr>\n",
       "    <tr>\n",
       "      <th>Location</th>\n",
       "      <th></th>\n",
       "      <th></th>\n",
       "      <th></th>\n",
       "      <th></th>\n",
       "      <th></th>\n",
       "      <th></th>\n",
       "      <th></th>\n",
       "      <th></th>\n",
       "      <th></th>\n",
       "      <th></th>\n",
       "    </tr>\n",
       "  </thead>\n",
       "  <tbody>\n",
       "    <tr>\n",
       "      <th>Alabama</th>\n",
       "      <td>100</td>\n",
       "      <td>20</td>\n",
       "      <td>89</td>\n",
       "      <td>5261</td>\n",
       "      <td>59.112360</td>\n",
       "      <td>49</td>\n",
       "      <td>1</td>\n",
       "      <td>89</td>\n",
       "      <td>2443</td>\n",
       "      <td>27.449438</td>\n",
       "    </tr>\n",
       "    <tr>\n",
       "      <th>Alaska</th>\n",
       "      <td>99</td>\n",
       "      <td>20</td>\n",
       "      <td>72</td>\n",
       "      <td>4867</td>\n",
       "      <td>67.597222</td>\n",
       "      <td>50</td>\n",
       "      <td>3</td>\n",
       "      <td>72</td>\n",
       "      <td>2023</td>\n",
       "      <td>28.097222</td>\n",
       "    </tr>\n",
       "    <tr>\n",
       "      <th>Arizona</th>\n",
       "      <td>100</td>\n",
       "      <td>22</td>\n",
       "      <td>65</td>\n",
       "      <td>4326</td>\n",
       "      <td>66.553846</td>\n",
       "      <td>50</td>\n",
       "      <td>2</td>\n",
       "      <td>65</td>\n",
       "      <td>1844</td>\n",
       "      <td>28.369231</td>\n",
       "    </tr>\n",
       "    <tr>\n",
       "      <th>Arkansas</th>\n",
       "      <td>99</td>\n",
       "      <td>22</td>\n",
       "      <td>79</td>\n",
       "      <td>4828</td>\n",
       "      <td>61.113924</td>\n",
       "      <td>49</td>\n",
       "      <td>1</td>\n",
       "      <td>79</td>\n",
       "      <td>2138</td>\n",
       "      <td>27.063291</td>\n",
       "    </tr>\n",
       "    <tr>\n",
       "      <th>California</th>\n",
       "      <td>100</td>\n",
       "      <td>20</td>\n",
       "      <td>95</td>\n",
       "      <td>5605</td>\n",
       "      <td>59.000000</td>\n",
       "      <td>50</td>\n",
       "      <td>1</td>\n",
       "      <td>95</td>\n",
       "      <td>2327</td>\n",
       "      <td>24.494737</td>\n",
       "    </tr>\n",
       "  </tbody>\n",
       "</table>\n",
       "</div>"
      ],
      "text/plain": [
       "           Purchase Amount (USD)                             \\\n",
       "                             max min count   sum       mean   \n",
       "Location                                                      \n",
       "Alabama                      100  20    89  5261  59.112360   \n",
       "Alaska                        99  20    72  4867  67.597222   \n",
       "Arizona                      100  22    65  4326  66.553846   \n",
       "Arkansas                      99  22    79  4828  61.113924   \n",
       "California                   100  20    95  5605  59.000000   \n",
       "\n",
       "           Previous Purchases                             \n",
       "                          max min count   sum       mean  \n",
       "Location                                                  \n",
       "Alabama                    49   1    89  2443  27.449438  \n",
       "Alaska                     50   3    72  2023  28.097222  \n",
       "Arizona                    50   2    65  1844  28.369231  \n",
       "Arkansas                   49   1    79  2138  27.063291  \n",
       "California                 50   1    95  2327  24.494737  "
      ]
     },
     "execution_count": 114,
     "metadata": {},
     "output_type": "execute_result"
    }
   ],
   "source": [
    "df_lrpp = df.groupby('Location')[['Purchase Amount (USD)', 'Previous Purchases']].agg(['max','min','count', 'sum', 'mean'])\n",
    "df_lrpp.head(5)"
   ]
  },
  {
   "cell_type": "markdown",
   "id": "542d3892-6d68-4b64-947d-fa451ec82b74",
   "metadata": {},
   "source": [
    "## Analysis of customer Purchasing Pattern"
   ]
  },
  {
   "cell_type": "markdown",
   "id": "b132c50c-04c1-4a16-9350-d1e8097cd4c7",
   "metadata": {},
   "source": [
    "### Top 5 Customer with the Highest Current and Previous Purchases"
   ]
  },
  {
   "cell_type": "code",
   "execution_count": 140,
   "id": "06a63d1b-d766-4362-a69f-8788afdc1793",
   "metadata": {},
   "outputs": [
    {
     "data": {
      "text/html": [
       "<div>\n",
       "<style scoped>\n",
       "    .dataframe tbody tr th:only-of-type {\n",
       "        vertical-align: middle;\n",
       "    }\n",
       "\n",
       "    .dataframe tbody tr th {\n",
       "        vertical-align: top;\n",
       "    }\n",
       "\n",
       "    .dataframe thead th {\n",
       "        text-align: right;\n",
       "    }\n",
       "</style>\n",
       "<table border=\"1\" class=\"dataframe\">\n",
       "  <thead>\n",
       "    <tr style=\"text-align: right;\">\n",
       "      <th></th>\n",
       "      <th>Customer ID</th>\n",
       "      <th>Age</th>\n",
       "      <th>Gender</th>\n",
       "      <th>Item Purchased</th>\n",
       "      <th>Category</th>\n",
       "      <th>Purchase Amount (USD)</th>\n",
       "      <th>Location</th>\n",
       "      <th>Size</th>\n",
       "      <th>Color</th>\n",
       "      <th>Season</th>\n",
       "      <th>Review Rating</th>\n",
       "      <th>Subscription Status</th>\n",
       "      <th>Shipping Type</th>\n",
       "      <th>Discount Applied</th>\n",
       "      <th>Promo Code Used</th>\n",
       "      <th>Previous Purchases</th>\n",
       "      <th>Payment Method</th>\n",
       "      <th>Frequency of Purchases</th>\n",
       "      <th>Age_Group</th>\n",
       "    </tr>\n",
       "  </thead>\n",
       "  <tbody>\n",
       "    <tr>\n",
       "      <th>0</th>\n",
       "      <td>456</td>\n",
       "      <td>54</td>\n",
       "      <td>Male</td>\n",
       "      <td>Blouse</td>\n",
       "      <td>Clothing</td>\n",
       "      <td>100</td>\n",
       "      <td>Utah</td>\n",
       "      <td>XL</td>\n",
       "      <td>Gold</td>\n",
       "      <td>Fall</td>\n",
       "      <td>3.6</td>\n",
       "      <td>Yes</td>\n",
       "      <td>Store Pickup</td>\n",
       "      <td>Yes</td>\n",
       "      <td>Yes</td>\n",
       "      <td>50</td>\n",
       "      <td>Debit Card</td>\n",
       "      <td>Fortnightly</td>\n",
       "      <td>(45, 65]</td>\n",
       "    </tr>\n",
       "    <tr>\n",
       "      <th>1</th>\n",
       "      <td>1848</td>\n",
       "      <td>46</td>\n",
       "      <td>Male</td>\n",
       "      <td>Sandals</td>\n",
       "      <td>Footwear</td>\n",
       "      <td>100</td>\n",
       "      <td>Arizona</td>\n",
       "      <td>XL</td>\n",
       "      <td>Cyan</td>\n",
       "      <td>Summer</td>\n",
       "      <td>4.4</td>\n",
       "      <td>No</td>\n",
       "      <td>Free Shipping</td>\n",
       "      <td>No</td>\n",
       "      <td>No</td>\n",
       "      <td>49</td>\n",
       "      <td>Credit Card</td>\n",
       "      <td>Weekly</td>\n",
       "      <td>(45, 65]</td>\n",
       "    </tr>\n",
       "    <tr>\n",
       "      <th>2</th>\n",
       "      <td>96</td>\n",
       "      <td>37</td>\n",
       "      <td>Male</td>\n",
       "      <td>Sneakers</td>\n",
       "      <td>Footwear</td>\n",
       "      <td>100</td>\n",
       "      <td>Missouri</td>\n",
       "      <td>L</td>\n",
       "      <td>Pink</td>\n",
       "      <td>Fall</td>\n",
       "      <td>3.8</td>\n",
       "      <td>Yes</td>\n",
       "      <td>Free Shipping</td>\n",
       "      <td>Yes</td>\n",
       "      <td>Yes</td>\n",
       "      <td>48</td>\n",
       "      <td>PayPal</td>\n",
       "      <td>Monthly</td>\n",
       "      <td>(25, 45]</td>\n",
       "    </tr>\n",
       "  </tbody>\n",
       "</table>\n",
       "</div>"
      ],
      "text/plain": [
       "   Customer ID  Age Gender Item Purchased  Category  Purchase Amount (USD)  \\\n",
       "0          456   54   Male         Blouse  Clothing                    100   \n",
       "1         1848   46   Male        Sandals  Footwear                    100   \n",
       "2           96   37   Male       Sneakers  Footwear                    100   \n",
       "\n",
       "   Location Size Color  Season  Review Rating Subscription Status  \\\n",
       "0      Utah   XL  Gold    Fall            3.6                 Yes   \n",
       "1   Arizona   XL  Cyan  Summer            4.4                  No   \n",
       "2  Missouri    L  Pink    Fall            3.8                 Yes   \n",
       "\n",
       "   Shipping Type Discount Applied Promo Code Used  Previous Purchases  \\\n",
       "0   Store Pickup              Yes             Yes                  50   \n",
       "1  Free Shipping               No              No                  49   \n",
       "2  Free Shipping              Yes             Yes                  48   \n",
       "\n",
       "  Payment Method Frequency of Purchases Age_Group  \n",
       "0     Debit Card            Fortnightly  (45, 65]  \n",
       "1    Credit Card                 Weekly  (45, 65]  \n",
       "2         PayPal                Monthly  (25, 45]  "
      ]
     },
     "execution_count": 140,
     "metadata": {},
     "output_type": "execute_result"
    }
   ],
   "source": [
    "df.sort_values(by = ['Purchase Amount (USD)', 'Previous Purchases'], ascending = False, ignore_index = True).head(3)"
   ]
  },
  {
   "cell_type": "markdown",
   "id": "12307036-b978-4818-a954-a0c5710dd7be",
   "metadata": {},
   "source": [
    "### Top 5 Customers with the lowest Current and Previous Purchases"
   ]
  },
  {
   "cell_type": "code",
   "execution_count": 141,
   "id": "aef1b4f8-fbf4-4f07-966d-953082987c8d",
   "metadata": {},
   "outputs": [
    {
     "data": {
      "text/html": [
       "<div>\n",
       "<style scoped>\n",
       "    .dataframe tbody tr th:only-of-type {\n",
       "        vertical-align: middle;\n",
       "    }\n",
       "\n",
       "    .dataframe tbody tr th {\n",
       "        vertical-align: top;\n",
       "    }\n",
       "\n",
       "    .dataframe thead th {\n",
       "        text-align: right;\n",
       "    }\n",
       "</style>\n",
       "<table border=\"1\" class=\"dataframe\">\n",
       "  <thead>\n",
       "    <tr style=\"text-align: right;\">\n",
       "      <th></th>\n",
       "      <th>Customer ID</th>\n",
       "      <th>Age</th>\n",
       "      <th>Gender</th>\n",
       "      <th>Item Purchased</th>\n",
       "      <th>Category</th>\n",
       "      <th>Purchase Amount (USD)</th>\n",
       "      <th>Location</th>\n",
       "      <th>Size</th>\n",
       "      <th>Color</th>\n",
       "      <th>Season</th>\n",
       "      <th>Review Rating</th>\n",
       "      <th>Subscription Status</th>\n",
       "      <th>Shipping Type</th>\n",
       "      <th>Discount Applied</th>\n",
       "      <th>Promo Code Used</th>\n",
       "      <th>Previous Purchases</th>\n",
       "      <th>Payment Method</th>\n",
       "      <th>Frequency of Purchases</th>\n",
       "      <th>Age_Group</th>\n",
       "    </tr>\n",
       "  </thead>\n",
       "  <tbody>\n",
       "    <tr>\n",
       "      <th>0</th>\n",
       "      <td>1066</td>\n",
       "      <td>59</td>\n",
       "      <td>Male</td>\n",
       "      <td>T-shirt</td>\n",
       "      <td>Clothing</td>\n",
       "      <td>20</td>\n",
       "      <td>Alabama</td>\n",
       "      <td>XL</td>\n",
       "      <td>Blue</td>\n",
       "      <td>Spring</td>\n",
       "      <td>4.1</td>\n",
       "      <td>No</td>\n",
       "      <td>Store Pickup</td>\n",
       "      <td>Yes</td>\n",
       "      <td>Yes</td>\n",
       "      <td>3</td>\n",
       "      <td>PayPal</td>\n",
       "      <td>Every 3 Months</td>\n",
       "      <td>(45, 65]</td>\n",
       "    </tr>\n",
       "    <tr>\n",
       "      <th>1</th>\n",
       "      <td>3453</td>\n",
       "      <td>26</td>\n",
       "      <td>Female</td>\n",
       "      <td>Jacket</td>\n",
       "      <td>Outerwear</td>\n",
       "      <td>20</td>\n",
       "      <td>Oklahoma</td>\n",
       "      <td>M</td>\n",
       "      <td>Indigo</td>\n",
       "      <td>Spring</td>\n",
       "      <td>3.7</td>\n",
       "      <td>No</td>\n",
       "      <td>Next Day Air</td>\n",
       "      <td>No</td>\n",
       "      <td>No</td>\n",
       "      <td>3</td>\n",
       "      <td>Venmo</td>\n",
       "      <td>Fortnightly</td>\n",
       "      <td>(25, 45]</td>\n",
       "    </tr>\n",
       "    <tr>\n",
       "      <th>2</th>\n",
       "      <td>3855</td>\n",
       "      <td>57</td>\n",
       "      <td>Female</td>\n",
       "      <td>T-shirt</td>\n",
       "      <td>Clothing</td>\n",
       "      <td>20</td>\n",
       "      <td>Florida</td>\n",
       "      <td>M</td>\n",
       "      <td>Black</td>\n",
       "      <td>Spring</td>\n",
       "      <td>4.2</td>\n",
       "      <td>No</td>\n",
       "      <td>Free Shipping</td>\n",
       "      <td>No</td>\n",
       "      <td>No</td>\n",
       "      <td>4</td>\n",
       "      <td>Venmo</td>\n",
       "      <td>Annually</td>\n",
       "      <td>(45, 65]</td>\n",
       "    </tr>\n",
       "  </tbody>\n",
       "</table>\n",
       "</div>"
      ],
      "text/plain": [
       "   Customer ID  Age  Gender Item Purchased   Category  Purchase Amount (USD)  \\\n",
       "0         1066   59    Male        T-shirt   Clothing                     20   \n",
       "1         3453   26  Female         Jacket  Outerwear                     20   \n",
       "2         3855   57  Female        T-shirt   Clothing                     20   \n",
       "\n",
       "   Location Size   Color  Season  Review Rating Subscription Status  \\\n",
       "0   Alabama   XL    Blue  Spring            4.1                  No   \n",
       "1  Oklahoma    M  Indigo  Spring            3.7                  No   \n",
       "2   Florida    M   Black  Spring            4.2                  No   \n",
       "\n",
       "   Shipping Type Discount Applied Promo Code Used  Previous Purchases  \\\n",
       "0   Store Pickup              Yes             Yes                   3   \n",
       "1   Next Day Air               No              No                   3   \n",
       "2  Free Shipping               No              No                   4   \n",
       "\n",
       "  Payment Method Frequency of Purchases Age_Group  \n",
       "0         PayPal         Every 3 Months  (45, 65]  \n",
       "1          Venmo            Fortnightly  (25, 45]  \n",
       "2          Venmo               Annually  (45, 65]  "
      ]
     },
     "execution_count": 141,
     "metadata": {},
     "output_type": "execute_result"
    }
   ],
   "source": [
    "df.sort_values(by = ['Purchase Amount (USD)', 'Previous Purchases'], ascending = True, ignore_index = True).head(3)"
   ]
  },
  {
   "cell_type": "markdown",
   "id": "72b81508-8b14-481f-ab8d-59e83f70490c",
   "metadata": {},
   "source": [
    "### Total Purchase Amount (USD)"
   ]
  },
  {
   "cell_type": "code",
   "execution_count": 77,
   "id": "a5d61ee5-0945-489b-8f80-6c2c48b730e4",
   "metadata": {},
   "outputs": [
    {
     "data": {
      "text/plain": [
       "233081"
      ]
     },
     "execution_count": 77,
     "metadata": {},
     "output_type": "execute_result"
    }
   ],
   "source": [
    "df['Purchase Amount (USD)'].sum()"
   ]
  },
  {
   "cell_type": "markdown",
   "id": "6563fc2c-7ca3-4511-a5e6-828809ce8798",
   "metadata": {},
   "source": [
    "### Total Previous Purchase Amount (USD)"
   ]
  },
  {
   "cell_type": "code",
   "execution_count": 78,
   "id": "3bce8de3-0bb4-444f-be39-51963004c8d8",
   "metadata": {},
   "outputs": [
    {
     "data": {
      "text/plain": [
       "98871"
      ]
     },
     "execution_count": 78,
     "metadata": {},
     "output_type": "execute_result"
    }
   ],
   "source": [
    "df['Previous Purchases'].sum()"
   ]
  },
  {
   "cell_type": "markdown",
   "id": "2c0d7cc7-4df3-4702-b5b4-ecc6ce0d0278",
   "metadata": {},
   "source": [
    "## Visualizing Purchase Patterns"
   ]
  },
  {
   "cell_type": "code",
   "execution_count": 81,
   "id": "8a05ff1d-4ad9-4681-a6dc-9a4cbde8ba58",
   "metadata": {},
   "outputs": [
    {
     "data": {
      "image/png": "[encoded data removed]",
      "text/plain": [
       "<Figure size 640x480 with 1 Axes>"
      ]
     },
     "metadata": {},
     "output_type": "display_data"
    }
   ],
   "source": [
    "df['Purchase Amount (USD)'].plot.hist()\n",
    "plt.xlabel('Purchase Amount (USD)')\n",
    "plt.title('Purchase Amount (USD) Distribution')\n",
    "plt.show()"
   ]
  },
  {
   "cell_type": "code",
   "execution_count": 82,
   "id": "14fb342c-c72e-42af-a8f2-f9c05cb592ce",
   "metadata": {},
   "outputs": [
    {
     "data": {
      "image/png": "[encoded data removed]",
      "text/plain": [
       "<Figure size 640x480 with 1 Axes>"
      ]
     },
     "metadata": {},
     "output_type": "display_data"
    }
   ],
   "source": [
    "df['Previous Purchases'].plot.hist()\n",
    "plt.xlabel('Previous Purchases(USD)')\n",
    "plt.title('Previous Purchase Amount (USD) Distribution')\n",
    "plt.show()"
   ]
  },
  {
   "cell_type": "markdown",
   "id": "64f64fb1-8f8c-479a-b5f7-8909fd7ceae7",
   "metadata": {},
   "source": [
    "# Identify top-items Purchased and categories"
   ]
  },
  {
   "cell_type": "code",
   "execution_count": 85,
   "id": "a02ea30a-1fad-42e4-935c-40b0759e305e",
   "metadata": {},
   "outputs": [
    {
     "data": {
      "image/png": "[encoded data removed]",
      "text/plain": [
       "<Figure size 640x480 with 1 Axes>"
      ]
     },
     "metadata": {},
     "output_type": "display_data"
    }
   ],
   "source": [
    "df['Item Purchased'].value_counts().plot.bar()\n",
    "plt.title('Item Purchased Distribution')\n",
    "plt.show()"
   ]
  },
  {
   "cell_type": "code",
   "execution_count": 138,
   "id": "0af620ca-daf8-434d-bbb6-c78898aaba3d",
   "metadata": {},
   "outputs": [
    {
     "data": {
      "image/png": "[encoded data removed]",
      "text/plain": [
       "<Figure size 640x480 with 1 Axes>"
      ]
     },
     "metadata": {},
     "output_type": "display_data"
    }
   ],
   "source": [
    "sns.countplot(x = 'Category', data = df)\n",
    "plt.title('Category Distribution')\n",
    "plt.show()"
   ]
  },
  {
   "cell_type": "markdown",
   "id": "f9fa3316-6e56-4d95-9de1-e11a8dc7fca0",
   "metadata": {},
   "source": [
    "### Total item Purchased and Amount (tipaa)"
   ]
  },
  {
   "cell_type": "code",
   "execution_count": 139,
   "id": "751bc4b3-1f42-4fb1-b244-f7c3c2c0d72b",
   "metadata": {},
   "outputs": [
    {
     "data": {
      "text/plain": [
       "Item Purchased\n",
       "Backpack     8636\n",
       "Belt         9635\n",
       "Blouse      10410\n",
       "Boots        9018\n",
       "Coat         9275\n",
       "Name: Purchase Amount (USD), dtype: int64"
      ]
     },
     "execution_count": 139,
     "metadata": {},
     "output_type": "execute_result"
    }
   ],
   "source": [
    "df_tipaa = df.groupby('Item Purchased')['Purchase Amount (USD)'].sum()\n",
    "df_tipaa.head(5)"
   ]
  },
  {
   "cell_type": "markdown",
   "id": "6d78cc3d-dc78-4ba7-9fe2-c01183953b3e",
   "metadata": {},
   "source": [
    "## Top Items Purchased (tip)"
   ]
  },
  {
   "cell_type": "code",
   "execution_count": 137,
   "id": "35a7c29e-51c4-44a2-a9d2-9d08f45bbc70",
   "metadata": {},
   "outputs": [
    {
     "data": {
      "text/plain": [
       "Item Purchased\n",
       "Blouse    10410\n",
       "Name: Purchase Amount (USD), dtype: int64"
      ]
     },
     "execution_count": 137,
     "metadata": {},
     "output_type": "execute_result"
    }
   ],
   "source": [
    "df_tip = df.groupby('Item Purchased')['Purchase Amount (USD)'].sum().sort_values( ascending = False , ignore_index = False)\n",
    "df_tip.head(1)"
   ]
  },
  {
   "cell_type": "markdown",
   "id": "f812ea13-70c4-4ada-9ec6-ade7a880b696",
   "metadata": {},
   "source": [
    "## Top Purchase by Category (tpc)"
   ]
  },
  {
   "cell_type": "code",
   "execution_count": 136,
   "id": "86720d94-aab1-4e81-8aee-cd837500404f",
   "metadata": {},
   "outputs": [
    {
     "data": {
      "text/plain": [
       "Category\n",
       "Clothing    104264\n",
       "Name: Purchase Amount (USD), dtype: int64"
      ]
     },
     "execution_count": 136,
     "metadata": {},
     "output_type": "execute_result"
    }
   ],
   "source": [
    "df_tpc = df.groupby('Category')['Purchase Amount (USD)'].sum().sort_values( ascending = False , ignore_index = False)\n",
    "df_tpc.head(1)"
   ]
  },
  {
   "cell_type": "markdown",
   "id": "b48a4bab-8195-4c1f-b05f-fb5bcf267528",
   "metadata": {},
   "source": [
    "# Analysis of customer loyalty and retention."
   ]
  },
  {
   "cell_type": "code",
   "execution_count": 166,
   "id": "da278209-57b1-45c0-822d-981138cf0c26",
   "metadata": {},
   "outputs": [
    {
     "data": {
      "image/png": "[encoded data removed]",
      "text/plain": [
       "<Figure size 640x480 with 1 Axes>"
      ]
     },
     "metadata": {},
     "output_type": "display_data"
    }
   ],
   "source": [
    "df['Frequency of Purchases'].value_counts().plot.bar()\n",
    "plt.title('Frequency of Purchases Distribution')\n",
    "plt.show()"
   ]
  },
  {
   "cell_type": "markdown",
   "id": "bc5f6c81-9d8d-4275-8f8c-b8ce2d629c2d",
   "metadata": {},
   "source": [
    "### Frequency of Purchases by Purchase Amount foppa (USD)"
   ]
  },
  {
   "cell_type": "code",
   "execution_count": 245,
   "id": "d12a83c2-d6f3-440a-9a41-b8d5aee1b4eb",
   "metadata": {},
   "outputs": [
    {
     "data": {
      "text/plain": [
       "Frequency_of_Purchases\n",
       "Every 3 Months    35088\n",
       "Annually          34419\n",
       "Quarterly         33771\n",
       "Bi-Weekly         33200\n",
       "Monthly           32810\n",
       "Fortnightly       32007\n",
       "Weekly            31786\n",
       "Name: Purchase Amount (USD), dtype: int64"
      ]
     },
     "execution_count": 245,
     "metadata": {},
     "output_type": "execute_result"
    }
   ],
   "source": [
    "df_foppa = df.groupby('Frequency_of_Purchases')['Purchase Amount (USD)'].sum().sort_values(ascending = False, ignore_index = False)\n",
    "df_foppa"
   ]
  },
  {
   "cell_type": "markdown",
   "id": "fb402bab-75b5-4fd9-bb84-960f42dbb4d9",
   "metadata": {},
   "source": [
    "### Customers with the highest order (cho)"
   ]
  },
  {
   "cell_type": "code",
   "execution_count": 275,
   "id": "2a20bd1a-9a83-4cc0-8b5b-3ad210fb40e7",
   "metadata": {},
   "outputs": [],
   "source": [
    "df['Average_order_value'] = df.groupby('Customer ID')['Purchase Amount (USD)'].transform('mean')"
   ]
  },
  {
   "cell_type": "code",
   "execution_count": 299,
   "id": "1ae0897c-fe01-42f0-b6b4-248b616ea58b",
   "metadata": {},
   "outputs": [
    {
     "data": {
      "image/png": "[encoded data removed]",
      "text/plain": [
       "<Figure size 640x480 with 1 Axes>"
      ]
     },
     "metadata": {},
     "output_type": "display_data"
    }
   ],
   "source": [
    "df.plot.line(x = 'Average_order_value', y = 'Purchase Amount (USD)' )\n",
    "plt.title('Distribution')\n",
    "plt.show()"
   ]
  },
  {
   "cell_type": "code",
   "execution_count": 288,
   "id": "4bef836a-b37b-4ab9-99d7-439cb0feec70",
   "metadata": {},
   "outputs": [
    {
     "data": {
      "text/html": [
       "<div>\n",
       "<style scoped>\n",
       "    .dataframe tbody tr th:only-of-type {\n",
       "        vertical-align: middle;\n",
       "    }\n",
       "\n",
       "    .dataframe tbody tr th {\n",
       "        vertical-align: top;\n",
       "    }\n",
       "\n",
       "    .dataframe thead th {\n",
       "        text-align: right;\n",
       "    }\n",
       "</style>\n",
       "<table border=\"1\" class=\"dataframe\">\n",
       "  <thead>\n",
       "    <tr style=\"text-align: right;\">\n",
       "      <th></th>\n",
       "      <th>Customer ID</th>\n",
       "      <th>Age</th>\n",
       "      <th>Gender</th>\n",
       "      <th>Item Purchased</th>\n",
       "      <th>Category</th>\n",
       "      <th>Purchase Amount (USD)</th>\n",
       "      <th>Location</th>\n",
       "      <th>Size</th>\n",
       "      <th>Color</th>\n",
       "      <th>Season</th>\n",
       "      <th>Review Rating</th>\n",
       "      <th>Subscription_Status</th>\n",
       "      <th>Shipping Type</th>\n",
       "      <th>Discount Applied</th>\n",
       "      <th>Promo Code Used</th>\n",
       "      <th>Previous Purchases</th>\n",
       "      <th>Payment Method</th>\n",
       "      <th>Frequency_of_Purchases</th>\n",
       "      <th>Age_Group</th>\n",
       "      <th>Average_order_value</th>\n",
       "    </tr>\n",
       "  </thead>\n",
       "  <tbody>\n",
       "    <tr>\n",
       "      <th>42</th>\n",
       "      <td>43</td>\n",
       "      <td>20</td>\n",
       "      <td>Male</td>\n",
       "      <td>Coat</td>\n",
       "      <td>Outerwear</td>\n",
       "      <td>100</td>\n",
       "      <td>Tennessee</td>\n",
       "      <td>M</td>\n",
       "      <td>Beige</td>\n",
       "      <td>Spring</td>\n",
       "      <td>4.1</td>\n",
       "      <td>Yes</td>\n",
       "      <td>Free Shipping</td>\n",
       "      <td>Yes</td>\n",
       "      <td>Yes</td>\n",
       "      <td>15</td>\n",
       "      <td>PayPal</td>\n",
       "      <td>Annually</td>\n",
       "      <td>(0, 25]</td>\n",
       "      <td>100.0</td>\n",
       "    </tr>\n",
       "    <tr>\n",
       "      <th>95</th>\n",
       "      <td>96</td>\n",
       "      <td>37</td>\n",
       "      <td>Male</td>\n",
       "      <td>Sneakers</td>\n",
       "      <td>Footwear</td>\n",
       "      <td>100</td>\n",
       "      <td>Missouri</td>\n",
       "      <td>L</td>\n",
       "      <td>Pink</td>\n",
       "      <td>Fall</td>\n",
       "      <td>3.8</td>\n",
       "      <td>Yes</td>\n",
       "      <td>Free Shipping</td>\n",
       "      <td>Yes</td>\n",
       "      <td>Yes</td>\n",
       "      <td>48</td>\n",
       "      <td>PayPal</td>\n",
       "      <td>Monthly</td>\n",
       "      <td>(25, 45]</td>\n",
       "      <td>100.0</td>\n",
       "    </tr>\n",
       "    <tr>\n",
       "      <th>193</th>\n",
       "      <td>194</td>\n",
       "      <td>36</td>\n",
       "      <td>Male</td>\n",
       "      <td>Belt</td>\n",
       "      <td>Accessories</td>\n",
       "      <td>100</td>\n",
       "      <td>North Dakota</td>\n",
       "      <td>S</td>\n",
       "      <td>Silver</td>\n",
       "      <td>Fall</td>\n",
       "      <td>3.0</td>\n",
       "      <td>Yes</td>\n",
       "      <td>Standard</td>\n",
       "      <td>Yes</td>\n",
       "      <td>Yes</td>\n",
       "      <td>29</td>\n",
       "      <td>Venmo</td>\n",
       "      <td>Annually</td>\n",
       "      <td>(25, 45]</td>\n",
       "      <td>100.0</td>\n",
       "    </tr>\n",
       "  </tbody>\n",
       "</table>\n",
       "</div>"
      ],
      "text/plain": [
       "     Customer ID  Age Gender Item Purchased     Category  \\\n",
       "42            43   20   Male           Coat    Outerwear   \n",
       "95            96   37   Male       Sneakers     Footwear   \n",
       "193          194   36   Male           Belt  Accessories   \n",
       "\n",
       "     Purchase Amount (USD)      Location Size   Color  Season  Review Rating  \\\n",
       "42                     100     Tennessee    M   Beige  Spring            4.1   \n",
       "95                     100      Missouri    L    Pink    Fall            3.8   \n",
       "193                    100  North Dakota    S  Silver    Fall            3.0   \n",
       "\n",
       "    Subscription_Status  Shipping Type Discount Applied Promo Code Used  \\\n",
       "42                  Yes  Free Shipping              Yes             Yes   \n",
       "95                  Yes  Free Shipping              Yes             Yes   \n",
       "193                 Yes       Standard              Yes             Yes   \n",
       "\n",
       "     Previous Purchases Payment Method Frequency_of_Purchases Age_Group  \\\n",
       "42                   15         PayPal               Annually   (0, 25]   \n",
       "95                   48         PayPal                Monthly  (25, 45]   \n",
       "193                  29          Venmo               Annually  (25, 45]   \n",
       "\n",
       "     Average_order_value  \n",
       "42                 100.0  \n",
       "95                 100.0  \n",
       "193                100.0  "
      ]
     },
     "execution_count": 288,
     "metadata": {},
     "output_type": "execute_result"
    }
   ],
   "source": [
    "df_cho = df[df['Average_order_value'] == 100]\n",
    "df_cho.head(3)"
   ]
  },
  {
   "cell_type": "markdown",
   "id": "f4516b3c-d2b1-43ae-b4f8-d418cd6c3553",
   "metadata": {},
   "source": [
    "### Most Loyal customers"
   ]
  },
  {
   "cell_type": "code",
   "execution_count": 239,
   "id": "27423af0-8493-48c4-9daf-18e5a2b53487",
   "metadata": {},
   "outputs": [],
   "source": [
    "df.rename(columns = {'Frequency of Purchases':'Frequency_of_Purchases'}, inplace = True)"
   ]
  },
  {
   "cell_type": "code",
   "execution_count": 262,
   "id": "f1acbd29-b214-4409-a563-681ef1ae1b81",
   "metadata": {},
   "outputs": [
    {
     "data": {
      "text/html": [
       "<div>\n",
       "<style scoped>\n",
       "    .dataframe tbody tr th:only-of-type {\n",
       "        vertical-align: middle;\n",
       "    }\n",
       "\n",
       "    .dataframe tbody tr th {\n",
       "        vertical-align: top;\n",
       "    }\n",
       "\n",
       "    .dataframe thead th {\n",
       "        text-align: right;\n",
       "    }\n",
       "</style>\n",
       "<table border=\"1\" class=\"dataframe\">\n",
       "  <thead>\n",
       "    <tr style=\"text-align: right;\">\n",
       "      <th></th>\n",
       "      <th>Customer ID</th>\n",
       "      <th>Age</th>\n",
       "      <th>Gender</th>\n",
       "      <th>Item Purchased</th>\n",
       "      <th>Category</th>\n",
       "      <th>Purchase Amount (USD)</th>\n",
       "      <th>Location</th>\n",
       "      <th>Size</th>\n",
       "      <th>Color</th>\n",
       "      <th>Season</th>\n",
       "      <th>Review Rating</th>\n",
       "      <th>Subscription_Status</th>\n",
       "      <th>Shipping Type</th>\n",
       "      <th>Discount Applied</th>\n",
       "      <th>Promo Code Used</th>\n",
       "      <th>Previous Purchases</th>\n",
       "      <th>Payment Method</th>\n",
       "      <th>Frequency_of_Purchases</th>\n",
       "      <th>Age_Group</th>\n",
       "      <th>Average_order_value</th>\n",
       "    </tr>\n",
       "  </thead>\n",
       "  <tbody>\n",
       "    <tr>\n",
       "      <th>20</th>\n",
       "      <td>21</td>\n",
       "      <td>21</td>\n",
       "      <td>Male</td>\n",
       "      <td>Pants</td>\n",
       "      <td>Clothing</td>\n",
       "      <td>51</td>\n",
       "      <td>Louisiana</td>\n",
       "      <td>M</td>\n",
       "      <td>Black</td>\n",
       "      <td>Winter</td>\n",
       "      <td>2.8</td>\n",
       "      <td>Yes</td>\n",
       "      <td>Express</td>\n",
       "      <td>Yes</td>\n",
       "      <td>Yes</td>\n",
       "      <td>50</td>\n",
       "      <td>Cash</td>\n",
       "      <td>Every 3 Months</td>\n",
       "      <td>(0, 25]</td>\n",
       "      <td>51.0</td>\n",
       "    </tr>\n",
       "    <tr>\n",
       "      <th>27</th>\n",
       "      <td>28</td>\n",
       "      <td>56</td>\n",
       "      <td>Male</td>\n",
       "      <td>Shorts</td>\n",
       "      <td>Clothing</td>\n",
       "      <td>56</td>\n",
       "      <td>Kentucky</td>\n",
       "      <td>L</td>\n",
       "      <td>Cyan</td>\n",
       "      <td>Summer</td>\n",
       "      <td>5.0</td>\n",
       "      <td>Yes</td>\n",
       "      <td>Next Day Air</td>\n",
       "      <td>Yes</td>\n",
       "      <td>Yes</td>\n",
       "      <td>7</td>\n",
       "      <td>Bank Transfer</td>\n",
       "      <td>Every 3 Months</td>\n",
       "      <td>(45, 65]</td>\n",
       "      <td>56.0</td>\n",
       "    </tr>\n",
       "    <tr>\n",
       "      <th>28</th>\n",
       "      <td>29</td>\n",
       "      <td>54</td>\n",
       "      <td>Male</td>\n",
       "      <td>Handbag</td>\n",
       "      <td>Accessories</td>\n",
       "      <td>94</td>\n",
       "      <td>North Carolina</td>\n",
       "      <td>M</td>\n",
       "      <td>Gray</td>\n",
       "      <td>Fall</td>\n",
       "      <td>4.4</td>\n",
       "      <td>Yes</td>\n",
       "      <td>Free Shipping</td>\n",
       "      <td>Yes</td>\n",
       "      <td>Yes</td>\n",
       "      <td>41</td>\n",
       "      <td>PayPal</td>\n",
       "      <td>Every 3 Months</td>\n",
       "      <td>(45, 65]</td>\n",
       "      <td>94.0</td>\n",
       "    </tr>\n",
       "  </tbody>\n",
       "</table>\n",
       "</div>"
      ],
      "text/plain": [
       "    Customer ID  Age Gender Item Purchased     Category  \\\n",
       "20           21   21   Male          Pants     Clothing   \n",
       "27           28   56   Male         Shorts     Clothing   \n",
       "28           29   54   Male        Handbag  Accessories   \n",
       "\n",
       "    Purchase Amount (USD)        Location Size  Color  Season  Review Rating  \\\n",
       "20                     51       Louisiana    M  Black  Winter            2.8   \n",
       "27                     56        Kentucky    L   Cyan  Summer            5.0   \n",
       "28                     94  North Carolina    M   Gray    Fall            4.4   \n",
       "\n",
       "   Subscription_Status  Shipping Type Discount Applied Promo Code Used  \\\n",
       "20                 Yes        Express              Yes             Yes   \n",
       "27                 Yes   Next Day Air              Yes             Yes   \n",
       "28                 Yes  Free Shipping              Yes             Yes   \n",
       "\n",
       "    Previous Purchases Payment Method Frequency_of_Purchases Age_Group  \\\n",
       "20                  50           Cash         Every 3 Months   (0, 25]   \n",
       "27                   7  Bank Transfer         Every 3 Months  (45, 65]   \n",
       "28                  41         PayPal         Every 3 Months  (45, 65]   \n",
       "\n",
       "    Average_order_value  \n",
       "20                 51.0  \n",
       "27                 56.0  \n",
       "28                 94.0  "
      ]
     },
     "execution_count": 262,
     "metadata": {},
     "output_type": "execute_result"
    }
   ],
   "source": [
    "df.query('Frequency_of_Purchases == \"Every 3 Months\"').head(3)"
   ]
  },
  {
   "cell_type": "markdown",
   "id": "f9d48d9b-207b-4db6-b270-e471bc27baae",
   "metadata": {},
   "source": [
    "## Retained Customers"
   ]
  },
  {
   "cell_type": "code",
   "execution_count": 260,
   "id": "fcfcbd7e-aaf7-4bea-b741-bd4e750aebcc",
   "metadata": {},
   "outputs": [],
   "source": [
    "df.rename(columns = {'Subscription Status':'Subscription_Status'}, inplace = True)"
   ]
  },
  {
   "cell_type": "code",
   "execution_count": 289,
   "id": "45d58be1-9365-403d-b375-3339549a9e96",
   "metadata": {},
   "outputs": [
    {
     "data": {
      "text/html": [
       "<div>\n",
       "<style scoped>\n",
       "    .dataframe tbody tr th:only-of-type {\n",
       "        vertical-align: middle;\n",
       "    }\n",
       "\n",
       "    .dataframe tbody tr th {\n",
       "        vertical-align: top;\n",
       "    }\n",
       "\n",
       "    .dataframe thead th {\n",
       "        text-align: right;\n",
       "    }\n",
       "</style>\n",
       "<table border=\"1\" class=\"dataframe\">\n",
       "  <thead>\n",
       "    <tr style=\"text-align: right;\">\n",
       "      <th></th>\n",
       "      <th>Customer ID</th>\n",
       "      <th>Age</th>\n",
       "      <th>Gender</th>\n",
       "      <th>Item Purchased</th>\n",
       "      <th>Category</th>\n",
       "      <th>Purchase Amount (USD)</th>\n",
       "      <th>Location</th>\n",
       "      <th>Size</th>\n",
       "      <th>Color</th>\n",
       "      <th>Season</th>\n",
       "      <th>Review Rating</th>\n",
       "      <th>Subscription_Status</th>\n",
       "      <th>Shipping Type</th>\n",
       "      <th>Discount Applied</th>\n",
       "      <th>Promo Code Used</th>\n",
       "      <th>Previous Purchases</th>\n",
       "      <th>Payment Method</th>\n",
       "      <th>Frequency_of_Purchases</th>\n",
       "      <th>Age_Group</th>\n",
       "      <th>Average_order_value</th>\n",
       "    </tr>\n",
       "  </thead>\n",
       "  <tbody>\n",
       "    <tr>\n",
       "      <th>0</th>\n",
       "      <td>1</td>\n",
       "      <td>55</td>\n",
       "      <td>Male</td>\n",
       "      <td>Blouse</td>\n",
       "      <td>Clothing</td>\n",
       "      <td>53</td>\n",
       "      <td>Kentucky</td>\n",
       "      <td>L</td>\n",
       "      <td>Gray</td>\n",
       "      <td>Winter</td>\n",
       "      <td>3.1</td>\n",
       "      <td>Yes</td>\n",
       "      <td>Express</td>\n",
       "      <td>Yes</td>\n",
       "      <td>Yes</td>\n",
       "      <td>14</td>\n",
       "      <td>Venmo</td>\n",
       "      <td>Fortnightly</td>\n",
       "      <td>(45, 65]</td>\n",
       "      <td>53.0</td>\n",
       "    </tr>\n",
       "    <tr>\n",
       "      <th>1</th>\n",
       "      <td>2</td>\n",
       "      <td>19</td>\n",
       "      <td>Male</td>\n",
       "      <td>Sweater</td>\n",
       "      <td>Clothing</td>\n",
       "      <td>64</td>\n",
       "      <td>Maine</td>\n",
       "      <td>L</td>\n",
       "      <td>Maroon</td>\n",
       "      <td>Winter</td>\n",
       "      <td>3.1</td>\n",
       "      <td>Yes</td>\n",
       "      <td>Express</td>\n",
       "      <td>Yes</td>\n",
       "      <td>Yes</td>\n",
       "      <td>2</td>\n",
       "      <td>Cash</td>\n",
       "      <td>Fortnightly</td>\n",
       "      <td>(0, 25]</td>\n",
       "      <td>64.0</td>\n",
       "    </tr>\n",
       "    <tr>\n",
       "      <th>2</th>\n",
       "      <td>3</td>\n",
       "      <td>50</td>\n",
       "      <td>Male</td>\n",
       "      <td>Jeans</td>\n",
       "      <td>Clothing</td>\n",
       "      <td>73</td>\n",
       "      <td>Massachusetts</td>\n",
       "      <td>S</td>\n",
       "      <td>Maroon</td>\n",
       "      <td>Spring</td>\n",
       "      <td>3.1</td>\n",
       "      <td>Yes</td>\n",
       "      <td>Free Shipping</td>\n",
       "      <td>Yes</td>\n",
       "      <td>Yes</td>\n",
       "      <td>23</td>\n",
       "      <td>Credit Card</td>\n",
       "      <td>Weekly</td>\n",
       "      <td>(45, 65]</td>\n",
       "      <td>73.0</td>\n",
       "    </tr>\n",
       "  </tbody>\n",
       "</table>\n",
       "</div>"
      ],
      "text/plain": [
       "   Customer ID  Age Gender Item Purchased  Category  Purchase Amount (USD)  \\\n",
       "0            1   55   Male         Blouse  Clothing                     53   \n",
       "1            2   19   Male        Sweater  Clothing                     64   \n",
       "2            3   50   Male          Jeans  Clothing                     73   \n",
       "\n",
       "        Location Size   Color  Season  Review Rating Subscription_Status  \\\n",
       "0       Kentucky    L    Gray  Winter            3.1                 Yes   \n",
       "1          Maine    L  Maroon  Winter            3.1                 Yes   \n",
       "2  Massachusetts    S  Maroon  Spring            3.1                 Yes   \n",
       "\n",
       "   Shipping Type Discount Applied Promo Code Used  Previous Purchases  \\\n",
       "0        Express              Yes             Yes                  14   \n",
       "1        Express              Yes             Yes                   2   \n",
       "2  Free Shipping              Yes             Yes                  23   \n",
       "\n",
       "  Payment Method Frequency_of_Purchases Age_Group  Average_order_value  \n",
       "0          Venmo            Fortnightly  (45, 65]                 53.0  \n",
       "1           Cash            Fortnightly   (0, 25]                 64.0  \n",
       "2    Credit Card                 Weekly  (45, 65]                 73.0  "
      ]
     },
     "execution_count": 289,
     "metadata": {},
     "output_type": "execute_result"
    }
   ],
   "source": [
    "df.query('Subscription_Status == \"Yes\"').head(3)"
   ]
  },
  {
   "cell_type": "markdown",
   "id": "3a5115b3-f9f0-4067-b8ae-72c99ae2331d",
   "metadata": {},
   "source": [
    "# Impact of pricing and promotions on Purchase"
   ]
  },
  {
   "cell_type": "code",
   "execution_count": 307,
   "id": "398dc9c5-8e7c-4632-9240-9f4844987cce",
   "metadata": {},
   "outputs": [
    {
     "data": {
      "image/png": "[encoded data removed]",
      "text/plain": [
       "<Figure size 640x480 with 1 Axes>"
      ]
     },
     "metadata": {},
     "output_type": "display_data"
    }
   ],
   "source": [
    "plt.hist(df['Promo Code Used'], bins = 2)\n",
    "plt.title('Promo Code Used Distribution')\n",
    "plt.show()"
   ]
  },
  {
   "cell_type": "code",
   "execution_count": 223,
   "id": "70fe8fc6-4c91-4bde-a2a4-112d312c7f08",
   "metadata": {},
   "outputs": [
    {
     "data": {
      "text/plain": [
       "Index(['Customer ID', 'Age', 'Gender', 'Item Purchased', 'Category',\n",
       "       'Purchase Amount (USD)', 'Location', 'Size', 'Color', 'Season',\n",
       "       'Review Rating', 'Subscription Status', 'Shipping Type',\n",
       "       'Discount Applied', 'Promo Code Used', 'Previous Purchases',\n",
       "       'Payment Method', 'Frequency of Purchases', 'Age_Group',\n",
       "       'Average_order_value'],\n",
       "      dtype='object')"
      ]
     },
     "execution_count": 223,
     "metadata": {},
     "output_type": "execute_result"
    }
   ],
   "source": [
    "df.columns"
   ]
  },
  {
   "cell_type": "code",
   "execution_count": null,
   "id": "20f0ff83-3e40-477c-9118-6e09f91ff541",
   "metadata": {},
   "outputs": [],
   "source": []
  },
  {
   "cell_type": "code",
   "execution_count": null,
   "id": "a55c8937-29fe-4f94-bf07-1657a2bd2894",
   "metadata": {},
   "outputs": [],
   "source": [
    "+"
   ]
  },
  {
   "cell_type": "code",
   "execution_count": null,
   "id": "4874a9f6-3d70-472a-9634-917234a8cd38",
   "metadata": {
    "scrolled": true
   },
   "outputs": [],
   "source": []
  },
  {
   "cell_type": "code",
   "execution_count": null,
   "id": "d7020393-ee58-43cd-b1ed-362991d10517",
   "metadata": {},
   "outputs": [],
   "source": []
  },
  {
   "cell_type": "code",
   "execution_count": null,
   "id": "13b47c23-fddb-46aa-bbd1-55e96b11ff60",
   "metadata": {
    "scrolled": true
   },
   "outputs": [],
   "source": []
  },
  {
   "cell_type": "code",
   "execution_count": null,
   "id": "e3a11263-fb00-4ec0-afab-4a7f49ed8c3c",
   "metadata": {},
   "outputs": [],
   "source": []
  },
  {
   "cell_type": "code",
   "execution_count": null,
   "id": "2d15455c-1c67-4bf2-9081-fe81ff8fcde3",
   "metadata": {},
   "outputs": [],
   "source": []
  },
  {
   "cell_type": "code",
   "execution_count": null,
   "id": "7cbadbd6-9135-4b00-8a69-57b4d9b5e32e",
   "metadata": {},
   "outputs": [],
   "source": []
  },
  {
   "cell_type": "code",
   "execution_count": null,
   "id": "3022d89b-c14d-4291-ac5c-6d41cb6bb13b",
   "metadata": {},
   "outputs": [],
   "source": []
  },
  {
   "cell_type": "code",
   "execution_count": null,
   "id": "d8a0cee0-a5a9-4497-ae29-2064b8dce4c3",
   "metadata": {},
   "outputs": [],
   "source": []
  }
 ],
 "metadata": {
  "kernelspec": {
   "display_name": "Python 3 (ipykernel)",
   "language": "python",
   "name": "python3"
  },
  "language_info": {
   "codemirror_mode": {
    "name": "ipython",
    "version": 3
   },
   "file_extension": ".py",
   "mimetype": "text/x-python",
   "name": "python",
   "nbconvert_exporter": "python",
   "pygments_lexer": "ipython3",
   "version": "3.11.7"
  }
 },
 "nbformat": 4,
 "nbformat_minor": 5
}
